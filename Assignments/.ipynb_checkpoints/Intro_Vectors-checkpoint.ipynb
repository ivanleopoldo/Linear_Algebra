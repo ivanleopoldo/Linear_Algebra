{
 "cells": [
  {
   "cell_type": "markdown",
   "id": "67c69b26-d2c4-4794-9a0f-6349c29ae4e2",
   "metadata": {},
   "source": [
    "# Introduction to Vectors Assignment\n",
    "## by Ivan Leopoldo"
   ]
  },
  {
   "cell_type": "markdown",
   "id": "db99e0db-5bbc-412a-ac9d-25f603dc0f25",
   "metadata": {},
   "source": [
    "### LateX"
   ]
  },
  {
   "cell_type": "markdown",
   "id": "1d99f014",
   "metadata": {},
   "source": [
    "### 1. Let $\\textbf{u} = (1, -2, 4)$ and $\\textbf{v} = (3,5,1)$ $\\textbf{w} = (2,1,-3)$ find:<br>"
   ]
  },
  {
   "cell_type": "markdown",
   "id": "edbea518",
   "metadata": {},
   "source": [
    "#### a. $3\\textbf{u}-2\\textbf{v}$"
   ]
  },
  {
   "cell_type": "markdown",
   "id": "fed03319",
   "metadata": {
    "slideshow": {
     "slide_type": "fragment"
    }
   },
   "source": [
    "$ = 3(1,-2,4) - 2(3,5,1)$\n",
    "\n",
    "$ = (3,-6,12) - (6,10,2)$\n",
    "\n",
    "$ = (-3,-16,10)$\n"
   ]
  },
  {
   "cell_type": "code",
   "execution_count": 4,
   "id": "4e6f089f",
   "metadata": {},
   "outputs": [
    {
     "name": "stdout",
     "output_type": "stream",
     "text": [
      "[ -3 -16  10]\n"
     ]
    }
   ],
   "source": [
    "import numpy as np\n",
    "\n",
    "result = (3 * np.array([1, -2, 4]) - (2 * np.array([3, 5, 1])))\n",
    "\n",
    "print(result)"
   ]
  },
  {
   "cell_type": "markdown",
   "id": "2370f047",
   "metadata": {},
   "source": [
    "#### b. $5\\textbf{u}+3\\textbf{v}-4\\textbf{w}$<br>"
   ]
  },
  {
   "cell_type": "markdown",
   "id": "8c87952c",
   "metadata": {},
   "source": [
    "$=5(1,-2,4) + 3(3,5,1) - 4(2,1,-3)$\n",
    "\n",
    "$= (5,-10,20) + (9,15,3) - (8,4,-12)$\n",
    "\n",
    "$= (6,1,35)$\n",
    "\n"
   ]
  },
  {
   "cell_type": "code",
   "execution_count": 3,
   "id": "a56fb87e",
   "metadata": {},
   "outputs": [
    {
     "name": "stdout",
     "output_type": "stream",
     "text": [
      "b.) 5u + 3v - 4w\n",
      "Answer : [ 6  1 35]\n"
     ]
    }
   ],
   "source": [
    "import numpy as np\n",
    "\n",
    "result = (5 * np.array([1, -2, 4])) + (3 * np.array([3, 5, 1])) - (4 * np.array([2, 1, -3]))\n",
    "print(result)"
   ]
  },
  {
   "cell_type": "markdown",
   "id": "2550a032",
   "metadata": {},
   "source": [
    "#### c. $\\textbf{u} \\cdotp \\textbf{v}$,$\\textbf{v} \\cdotp \\textbf{w}$, $\\textbf{u} \\cdotp \\textbf{w}$<br>"
   ]
  },
  {
   "cell_type": "markdown",
   "id": "e45be809",
   "metadata": {},
   "source": [
    "$\\textbf{u} \\cdotp \\textbf{v}= 1(3) - 2(5) + 4(1) = -3$\n",
    "\n",
    "$\\textbf{v} \\cdotp \\textbf{w}= 3(2) + 5(1) + 1(-3) = 8$\n",
    "\n",
    "$\\textbf{u} \\cdotp \\textbf{w}= 1(2) - 2(1) + 4(-3) = -12$"
   ]
  },
  {
   "cell_type": "code",
   "execution_count": 6,
   "id": "edb98454",
   "metadata": {},
   "outputs": [
    {
     "name": "stdout",
     "output_type": "stream",
     "text": [
      "-3 8 -12\n"
     ]
    }
   ],
   "source": [
    "import numpy as np\n",
    "\n",
    "u = np.array([1, -2, 4])\n",
    "v = np.array([3, 5, 1])\n",
    "w = np.array([2, 1, -3])\n",
    "\n",
    "print(np.dot(u,v), np.dot(v,w), np.dot(u,w))"
   ]
  },
  {
   "cell_type": "markdown",
   "id": "2d5bbe54",
   "metadata": {},
   "source": [
    "#### d. ||$\\textbf{u}||, ||\\textbf{v}||, ||\\textbf{w}$||<br>"
   ]
  },
  {
   "cell_type": "markdown",
   "id": "455ea8dd",
   "metadata": {},
   "source": [
    "$||\\textbf{u}||=\\sqrt{1^2 + (-2)^2 + 4^2} = \\sqrt{21}$\n",
    "\n",
    "$||\\textbf{v}||=\\sqrt{3^2 + 5^2 + 1^2} = \\sqrt{35}$\n",
    "\n",
    "$||\\textbf{w}||=\\sqrt{2^2 + 1^2 + (-3)^2} = \\sqrt{14}$"
   ]
  },
  {
   "cell_type": "code",
   "execution_count": 8,
   "id": "c3d44d15",
   "metadata": {},
   "outputs": [
    {
     "name": "stdout",
     "output_type": "stream",
     "text": [
      "4.58257569495584 5.916079783099616 3.7416573867739413\n"
     ]
    }
   ],
   "source": [
    "import numpy as np\n",
    "\n",
    "u = np.array([1, -2, 4])\n",
    "v = np.array([3, 5, 1])\n",
    "w = np.array([2, 1, -3])\n",
    "\n",
    "print(np.sqrt(u.dot(u)), np.sqrt(v.dot(v)), np.sqrt(w.dot(w)))"
   ]
  },
  {
   "cell_type": "markdown",
   "id": "6c4a1468",
   "metadata": {},
   "source": [
    "#### e. If $\\theta$ is the angle between $\\textbf{u}$  and   $\\textbf{v}$, find $\\cos{\\theta}$.<br>"
   ]
  },
  {
   "cell_type": "markdown",
   "id": "f7a56f1f",
   "metadata": {},
   "source": [
    "$cos\\theta = \\frac{u \\cdot v}{||u||||v||}$\n",
    "\n",
    "$= \\frac{1(3) - 2(5) + 4(1)}{\\sqrt{1^2 + (-2)^2 + 4^2}\\sqrt{3^2 + 5^2 + 1^2}}$\n",
    "\n",
    "$= \\frac{-3}{\\sqrt{21}\\sqrt{35}}$\n"
   ]
  },
  {
   "cell_type": "code",
   "execution_count": 10,
   "id": "4b55249c",
   "metadata": {},
   "outputs": [
    {
     "name": "stdout",
     "output_type": "stream",
     "text": [
      "Answer : -0.11065666703449763\n"
     ]
    }
   ],
   "source": [
    "import numpy as np\n",
    "\n",
    "u = np.array([1, -2, 4])\n",
    "v = np.array([3, 5, 1])\n",
    "uv = np.linalg.norm(u)*np.linalg.norm(v)\n",
    "\n",
    "result = u.dot(v) / uv\n",
    "\n",
    "print(u.dot(v) / (np.linalg.norm(u)*np.linalg.norm(v)))"
   ]
  }
 ],
 "metadata": {
  "kernelspec": {
   "display_name": "Python 3 (ipykernel)",
   "language": "python",
   "name": "python3"
  },
  "language_info": {
   "codemirror_mode": {
    "name": "ipython",
    "version": 3
   },
   "file_extension": ".py",
   "mimetype": "text/x-python",
   "name": "python",
   "nbconvert_exporter": "python",
   "pygments_lexer": "ipython3",
   "version": "3.12.0"
  }
 },
 "nbformat": 4,
 "nbformat_minor": 5
}
